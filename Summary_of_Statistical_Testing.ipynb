{
  "nbformat": 4,
  "nbformat_minor": 0,
  "metadata": {
    "colab": {
      "provenance": [],
      "authorship_tag": "ABX9TyNu80yRP+d2ucETjn4pXW/z",
      "include_colab_link": true
    },
    "kernelspec": {
      "name": "python3",
      "display_name": "Python 3"
    },
    "language_info": {
      "name": "python"
    }
  },
  "cells": [
    {
      "cell_type": "markdown",
      "metadata": {
        "id": "view-in-github",
        "colab_type": "text"
      },
      "source": [
        "<a href=\"https://colab.research.google.com/github/JohnYCLam/Statistics/blob/main/Summary_of_Statistical_Testing.ipynb\" target=\"_parent\"><img src=\"https://colab.research.google.com/assets/colab-badge.svg\" alt=\"Open In Colab\"/></a>"
      ]
    },
    {
      "cell_type": "markdown",
      "source": [
        "Illustration and summary of different statistical testing.\n",
        "\n",
        "*   Construction of Confident Interval\n",
        "*   hypothesis testing (Z Test, T Test, $\\chi^2$ Test, Wald's Test, Likelihood Ratio Test, Testing implicit hypothesis)\n",
        "*   normality test/ goodness of fit testing (Jarque Bera Test, D'Agostino and Pearson Test, Kolmogorov-Smirnov test, Kolmogorov-Lilliefors test, Quantile-Quantile (QQ) plots, $\\chi^2$ goodness-of-fit test)\n"
      ],
      "metadata": {
        "id": "ZiXorV-nl64N"
      }
    },
    {
      "cell_type": "markdown",
      "source": [
        "Construction of Confidence Interval\n"
      ],
      "metadata": {
        "id": "ZRzCF94oMoGt"
      }
    },
    {
      "cell_type": "code",
      "source": [
        "import numpy as np\n",
        "import scipy.stats as stats"
      ],
      "metadata": {
        "id": "7-nTFGws0Eun"
      },
      "execution_count": 1,
      "outputs": []
    },
    {
      "cell_type": "code",
      "source": [
        "#Construct a confidence interval of level 95% for the mean p of Bernoulli(p)\n",
        "alpha = 0.05\n",
        "q_alpha2 = stats.norm.ppf(1-alpha/2)\n",
        "\n",
        "#Generate synthetic data\n",
        "n = 1000\n",
        "X = np.random.binomial(1, 0.5, n)\n",
        "X_avg = X.mean()\n",
        "\n",
        "#Confidence interval Methnod 1: replace p(1-p) by 1/4\n",
        "I = [X_avg - q_alpha2/(2*n**0.5), X_avg + q_alpha2/(2*n**0.5)]\n",
        "print(I)\n",
        "\n",
        "#Confidence interval Method 2: replace p by X_avg\n",
        "I = [X_avg - q_alpha2 * (X_avg*(1 - X_avg)/n)**0.5, X_avg + q_alpha2 * (X_avg*(1 - X_avg)/n)**0.5]\n",
        "print(I)\n",
        "\n",
        "#Confidence interval Method 3: Calculate the exact range of p\n",
        "a = n + q_alpha2**2\n",
        "b = - (2*n*X_avg + q_alpha2**2)\n",
        "c = n*X_avg**2\n",
        "I = [(-b - (b**2 - 4*a*c)**0.5)/(2*a), (-b + (b**2 - 4*a*c)**0.5)/(2*a)]\n",
        "print(I)"
      ],
      "metadata": {
        "colab": {
          "base_uri": "https://localhost:8080/"
        },
        "id": "8HFOmIvt0HnJ",
        "outputId": "b7fbb8eb-3441-4a51-fd2a-4cf4691b8fe1"
      },
      "execution_count": null,
      "outputs": [
        {
          "output_type": "stream",
          "name": "stdout",
          "text": [
            "[0.4670102483847719, 0.5289897516152281]\n",
            "[0.4670104963037765, 0.5289895036962234]\n",
            "[0.4670775003823489, 0.5289378066515933]\n"
          ]
        }
      ]
    },
    {
      "cell_type": "code",
      "source": [
        "#Meaning of Confidence interval\n",
        "I = []\n",
        "trials = 1000\n",
        "n = 100\n",
        "p = 0.5\n",
        "count = 0\n",
        "\n",
        "for _ in range(trials):\n",
        "  X = np.random.binomial(1, p, n)\n",
        "  X_avg = X.mean()\n",
        "  lower = X_avg - q_alpha2/(2*n**0.5)\n",
        "  upper = X_avg + q_alpha2/(2*n**0.5)\n",
        "  I.append([lower, upper])\n",
        "  if lower > p or upper < p:\n",
        "    count += 1\n",
        "print(f'Out of the {trials} constructed confidence intervals at 95% confidence level,\\n{count} of them do not contain p ({p})')"
      ],
      "metadata": {
        "colab": {
          "base_uri": "https://localhost:8080/"
        },
        "id": "S4N1X5J_LJkJ",
        "outputId": "0422c2fb-2983-4ab2-b7e1-9499e04872b7"
      },
      "execution_count": null,
      "outputs": [
        {
          "output_type": "stream",
          "name": "stdout",
          "text": [
            "Out of the 1000 constructed confidence intervals at 95% confidence level,\n",
            "59 of them do not contain p (0.5)\n"
          ]
        }
      ]
    },
    {
      "cell_type": "markdown",
      "source": [
        "Z Test: Underlying distribution is (asymptotically) normal AND the population variance is known. Then Z test is equivalent to testing whether the mean lies in the confidence interval."
      ],
      "metadata": {
        "id": "_FCpXkWErSLb"
      }
    },
    {
      "cell_type": "code",
      "source": [
        "#Generate synthetic data\n",
        "n = 100\n",
        "p = 0.6\n",
        "X = np.random.binomial(1, p, n)\n",
        "X_avg = X.mean()\n",
        "u = p\n",
        "sigma_square = p*(1-p)\n",
        "\n",
        "test_statistic = abs(n**0.5 * (X_avg - u)/(sigma_square)**0.5)\n",
        "test_statistic"
      ],
      "metadata": {
        "colab": {
          "base_uri": "https://localhost:8080/"
        },
        "id": "Oq1XkpNWR5FM",
        "outputId": "2395665e-f57a-4bd0-8cf6-75ab66204379"
      },
      "execution_count": 78,
      "outputs": [
        {
          "output_type": "execute_result",
          "data": {
            "text/plain": [
              "1.6329931618554536"
            ]
          },
          "metadata": {},
          "execution_count": 78
        }
      ]
    },
    {
      "cell_type": "code",
      "source": [
        "alpha = 0.05\n",
        "q_alpha = stats.norm.ppf(1-alpha/2)\n",
        "if test_statistic > q_alpha:\n",
        "  print(\"Reject H_0\")\n",
        "else:\n",
        "  print(\"Failed to reject H_0\")"
      ],
      "metadata": {
        "colab": {
          "base_uri": "https://localhost:8080/"
        },
        "id": "V9Fs3CGh_sgI",
        "outputId": "f92a16f7-6495-4414-f051-1afc86fa390a"
      },
      "execution_count": 79,
      "outputs": [
        {
          "output_type": "stream",
          "name": "stdout",
          "text": [
            "Failed to reject H_0\n"
          ]
        }
      ]
    },
    {
      "cell_type": "code",
      "source": [
        "#Repeat the test for 100 times\n",
        "#Expect to reject H_0 about 5 times\n",
        "trials = 100\n",
        "alpha = 0.05\n",
        "q_alpha = stats.norm.ppf(1-alpha/2)\n",
        "u = p\n",
        "sigma_square = p*(1-p)\n",
        "results = []\n",
        "\n",
        "for _ in range(trials):\n",
        "  X = np.random.binomial(1, p, n)\n",
        "  X_avg = X.mean()\n",
        "  test_statistic = abs(n**0.5 * (X_avg - u)/(sigma_square)**0.5)\n",
        "  results.append(test_statistic > q_alpha)\n",
        "\n",
        "print(f'After {trials} trials, the null hypothesis is rejected {sum(results)} times at 95% confidence.')"
      ],
      "metadata": {
        "id": "sezpbVbHoS5r",
        "colab": {
          "base_uri": "https://localhost:8080/"
        },
        "outputId": "88976654-a4df-4144-d9a6-bb056ca1f34a"
      },
      "execution_count": 86,
      "outputs": [
        {
          "output_type": "stream",
          "name": "stdout",
          "text": [
            "After 100 trials, the null hypothesis is rejected 2 times at 95% confidence.\n"
          ]
        }
      ]
    },
    {
      "cell_type": "markdown",
      "source": [
        "T Test: when we have unknown population variance. Assumption: X_i ~ N(u, sigma^2)"
      ],
      "metadata": {
        "id": "8ydKoOXl2HDL"
      }
    },
    {
      "cell_type": "code",
      "source": [
        "#Generate synthetic data\n",
        "n = 10000000\n",
        "loc = 5\n",
        "scale = 3\n",
        "X = np.random.normal(loc, scale, n)\n",
        "X_avg = X.mean()\n",
        "u = loc\n",
        "S_n = X.var()\n",
        "print(X_avg - u, S_n)\n",
        "\n",
        "test_statistic = abs((n - 1)**0.5 * (X_avg - u)/(S_n)**0.5)\n",
        "test_statistic"
      ],
      "metadata": {
        "id": "wIo24q1Y2L9U",
        "colab": {
          "base_uri": "https://localhost:8080/"
        },
        "outputId": "10fdc28d-0561-427f-ef51-5a536ca0c368"
      },
      "execution_count": 283,
      "outputs": [
        {
          "output_type": "stream",
          "name": "stdout",
          "text": [
            "-0.0006294275155784845 9.006645727997403\n"
          ]
        },
        {
          "output_type": "execute_result",
          "data": {
            "text/plain": [
              "0.6632299998508626"
            ]
          },
          "metadata": {},
          "execution_count": 283
        }
      ]
    },
    {
      "cell_type": "code",
      "source": [
        "#Compare the test statistics of T test and Z test\n",
        "#T Test should be larger, i.e. eaiser to reject\n",
        "test_statistic = abs(n**0.5 * (X_avg - u)/(scale))\n",
        "test_statistic"
      ],
      "metadata": {
        "colab": {
          "base_uri": "https://localhost:8080/"
        },
        "id": "yVbRc4WHqBLu",
        "outputId": "f97998c6-896a-4a25-b595-9918b6268f79"
      },
      "execution_count": 88,
      "outputs": [
        {
          "output_type": "execute_result",
          "data": {
            "text/plain": [
              "1.7692503476278532"
            ]
          },
          "metadata": {},
          "execution_count": 88
        }
      ]
    },
    {
      "cell_type": "code",
      "source": [
        "alpha = 0.05\n",
        "q_alpha = stats.t.ppf(1-alpha/2, df = n - 1)\n",
        "if test_statistic > q_alpha:\n",
        "  print(\"Reject H_0\")\n",
        "else:\n",
        "  print(\"Failed to reject H_0\")"
      ],
      "metadata": {
        "colab": {
          "base_uri": "https://localhost:8080/"
        },
        "id": "Xd6OGb3smckc",
        "outputId": "e4cda509-0756-4c3d-a70a-c24c3e37d20c"
      },
      "execution_count": 89,
      "outputs": [
        {
          "output_type": "stream",
          "name": "stdout",
          "text": [
            "Failed to reject H_0\n"
          ]
        }
      ]
    },
    {
      "cell_type": "code",
      "source": [
        "#Repeat the test for 100 times\n",
        "#Expect to reject H_0 about 5 times\n",
        "trials = 100\n",
        "alpha = 0.05\n",
        "n = 10000\n",
        "q_alpha = stats.t.ppf(1-alpha/2, df = n - 1)\n",
        "loc = 5\n",
        "scale = 3\n",
        "S_n = X.var()\n",
        "results = []\n",
        "\n",
        "for _ in range(trials):\n",
        "  X = np.random.normal(loc, scale, n)\n",
        "  X_avg = X.mean()\n",
        "  test_statistic = abs((n - 1)**0.5 * (X_avg - u)/(S_n)**0.5)\n",
        "  results.append(test_statistic > q_alpha)\n",
        "\n",
        "print(f'After {trials} trials, the null hypothesis is rejected {sum(results)} times at 95% confidence.')"
      ],
      "metadata": {
        "colab": {
          "base_uri": "https://localhost:8080/"
        },
        "id": "qEJl20jLnPFL",
        "outputId": "99bc982c-473e-46ae-8b86-a7ded4d8a5cf"
      },
      "execution_count": 226,
      "outputs": [
        {
          "output_type": "stream",
          "name": "stdout",
          "text": [
            "After 100 trials, the null hypothesis is rejected 4 times at 95% confidence.\n"
          ]
        }
      ]
    },
    {
      "cell_type": "markdown",
      "source": [
        "Two Sample Test (Large Sample Case and known variance)"
      ],
      "metadata": {
        "id": "IQhsTmNBxmuW"
      }
    },
    {
      "cell_type": "code",
      "source": [
        "#Generate 2 independent samples\n",
        "n = 10000000\n",
        "m = 1000000\n",
        "ux = 4\n",
        "uy = 4\n",
        "sigma_x = ux**0.5\n",
        "sigma_y = uy**0.5\n",
        "X = np.random.normal(ux, 1, n)\n",
        "Y = np.random.normal(uy, 1, m)\n",
        "print(X.mean(), Y.mean())\n",
        "#normalized mean x and mean y\n",
        "\n",
        "\n",
        "test_statistic = abs(n**0.5 *(X.mean() - Y.mean())/(1 + m/n)**0.5)\n",
        "test_statistic"
      ],
      "metadata": {
        "colab": {
          "base_uri": "https://localhost:8080/"
        },
        "id": "iA0g-Kq12l8T",
        "outputId": "fb396268-bcf8-4840-a17f-55f0aabd2768"
      },
      "execution_count": 341,
      "outputs": [
        {
          "output_type": "stream",
          "name": "stdout",
          "text": [
            "4.00001686171669 3.999710351170473\n"
          ]
        },
        {
          "output_type": "execute_result",
          "data": {
            "text/plain": [
              "0.9241640691701796"
            ]
          },
          "metadata": {},
          "execution_count": 341
        }
      ]
    },
    {
      "cell_type": "code",
      "source": [
        "alpha = 0.05\n",
        "q_alpha = stats.norm.ppf(1-alpha/2)\n",
        "print(q_alpha)\n",
        "if test_statistic > q_alpha:\n",
        "  print(\"Reject H_0\")\n",
        "else:\n",
        "  print(\"Failed to reject H_0\")"
      ],
      "metadata": {
        "colab": {
          "base_uri": "https://localhost:8080/"
        },
        "id": "N0QcHQHz91iU",
        "outputId": "915495c1-c294-4ef0-e8a9-dda1bbdf62cd"
      },
      "execution_count": 342,
      "outputs": [
        {
          "output_type": "stream",
          "name": "stdout",
          "text": [
            "1.959963984540054\n",
            "Failed to reject H_0\n"
          ]
        }
      ]
    },
    {
      "cell_type": "code",
      "source": [
        "#Repeat the test for many times\n",
        "trials = 100\n",
        "alpha = 0.05\n",
        "n = 1000\n",
        "m = 100000\n",
        "ux = 4\n",
        "uy = 4\n",
        "\n",
        "q_alpha = stats.norm.ppf(1-alpha/2)\n",
        "results = []\n",
        "\n",
        "for _ in range(trials):\n",
        "  X = np.random.normal(ux, 1, n)\n",
        "  Y = np.random.normal(uy, 1, m)\n",
        "  test_statistic = abs(n**0.5 *(X.mean() - Y.mean())/(1 + m/n)**0.5)\n",
        "  results.append(test_statistic > q_alpha)\n",
        "\n",
        "print(f'After {trials} trials, the null hypothesis is rejected {sum(results)} times at 95% confidence.')"
      ],
      "metadata": {
        "colab": {
          "base_uri": "https://localhost:8080/"
        },
        "id": "m0BunGUCBmZk",
        "outputId": "973b557c-1919-4f6a-a4b8-7d8002974cf3"
      },
      "execution_count": 362,
      "outputs": [
        {
          "output_type": "stream",
          "name": "stdout",
          "text": [
            "After 100 trials, the null hypothesis is rejected 0 times at 95% confidence.\n"
          ]
        }
      ]
    },
    {
      "cell_type": "markdown",
      "source": [
        "Two Sample T Test (Unknown and unequal variances) \\\\\n",
        "Assumption: Samples are normal distributed"
      ],
      "metadata": {
        "id": "UFIq8koxBWxG"
      }
    },
    {
      "cell_type": "markdown",
      "source": [
        "$\\chi^2$ Test"
      ],
      "metadata": {
        "id": "4k-ev0posZ4B"
      }
    },
    {
      "cell_type": "code",
      "source": [],
      "metadata": {
        "id": "I8lCm8GkuYyi"
      },
      "execution_count": null,
      "outputs": []
    }
  ]
}