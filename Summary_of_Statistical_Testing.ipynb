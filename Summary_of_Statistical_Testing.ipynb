{
  "nbformat": 4,
  "nbformat_minor": 0,
  "metadata": {
    "colab": {
      "provenance": [],
      "authorship_tag": "ABX9TyMX70deZQyDUbKI1UZEAHUo",
      "include_colab_link": true
    },
    "kernelspec": {
      "name": "python3",
      "display_name": "Python 3"
    },
    "language_info": {
      "name": "python"
    }
  },
  "cells": [
    {
      "cell_type": "markdown",
      "metadata": {
        "id": "view-in-github",
        "colab_type": "text"
      },
      "source": [
        "<a href=\"https://colab.research.google.com/github/JohnYCLam/Statistics/blob/main/Summary_of_Statistical_Testing.ipynb\" target=\"_parent\"><img src=\"https://colab.research.google.com/assets/colab-badge.svg\" alt=\"Open In Colab\"/></a>"
      ]
    },
    {
      "cell_type": "markdown",
      "source": [
        "Z Test, T Test, $\\chi^2$ Test\n",
        "\n",
        "Wald's Test, Likelihood Ratio Test, Testing implicit hypothesis\n",
        "\n",
        "Jarque Bera Test, D'Agostino and Pearson Test\n",
        "\n",
        "Kolmogorov-Smirnov test, Kolmogorov-Lilliefors test\n",
        "\n",
        "Quantile-Quantile (QQ) plots\n",
        "\n",
        "$\\chi^2$ goodness-of-fit test"
      ],
      "metadata": {
        "id": "ZiXorV-nl64N"
      }
    },
    {
      "cell_type": "markdown",
      "source": [
        "Confidence Interval Demonstration\n"
      ],
      "metadata": {
        "id": "ZRzCF94oMoGt"
      }
    },
    {
      "cell_type": "code",
      "source": [
        "import numpy as np\n",
        "import scipy.stats as stats"
      ],
      "metadata": {
        "id": "7-nTFGws0Eun"
      },
      "execution_count": 1,
      "outputs": []
    },
    {
      "cell_type": "code",
      "source": [
        "#Construct a confidence interval of level 95% for the mean p of Bernoulli(p)\n",
        "alpha = 0.05\n",
        "q_alpha2 = stats.norm.ppf(1-alpha/2)\n",
        "\n",
        "#Generate synthetic data\n",
        "n = 1000\n",
        "X = np.random.binomial(1, 0.5, n)\n",
        "X_avg = X.mean()\n",
        "\n",
        "#Confidence interval Methnod 1: replace p(1-p) by 1/4\n",
        "I = [X_avg - q_alpha2/(2*n**0.5), X_avg + q_alpha2/(2*n**0.5)]\n",
        "print(I)\n",
        "\n",
        "#Confidence interval Method 2: replace p by X_avg\n",
        "I = [X_avg - q_alpha2 * (X_avg*(1 - X_avg)/n)**0.5, X_avg + q_alpha2 * (X_avg*(1 - X_avg)/n)**0.5]\n",
        "print(I)\n",
        "\n",
        "#Confidence interval Method 3: Calculate the exact range of p\n",
        "a = n + q_alpha2**2\n",
        "b = - (2*n*X_avg + q_alpha2**2)\n",
        "c = n*X_avg**2\n",
        "I = [(-b - (b**2 - 4*a*c)**0.5)/(2*a), (-b + (b**2 - 4*a*c)**0.5)/(2*a)]\n",
        "print(I)"
      ],
      "metadata": {
        "colab": {
          "base_uri": "https://localhost:8080/"
        },
        "id": "8HFOmIvt0HnJ",
        "outputId": "b7fbb8eb-3441-4a51-fd2a-4cf4691b8fe1"
      },
      "execution_count": null,
      "outputs": [
        {
          "output_type": "stream",
          "name": "stdout",
          "text": [
            "[0.4670102483847719, 0.5289897516152281]\n",
            "[0.4670104963037765, 0.5289895036962234]\n",
            "[0.4670775003823489, 0.5289378066515933]\n"
          ]
        }
      ]
    },
    {
      "cell_type": "code",
      "source": [
        "#Meaning of Confidence interval\n",
        "I = []\n",
        "trials = 1000\n",
        "n = 100\n",
        "p = 0.5\n",
        "count = 0\n",
        "\n",
        "for _ in range(trials):\n",
        "  X = np.random.binomial(1, p, n)\n",
        "  X_avg = X.mean()\n",
        "  lower = X_avg - q_alpha2/(2*n**0.5)\n",
        "  upper = X_avg + q_alpha2/(2*n**0.5)\n",
        "  I.append([lower, upper])\n",
        "  if lower > p or upper < p:\n",
        "    count += 1\n",
        "print(f'Out of the {trials} constructed confidence intervals at 95% confidence level,\\n{count} of them do not contain p ({p})')"
      ],
      "metadata": {
        "colab": {
          "base_uri": "https://localhost:8080/"
        },
        "id": "S4N1X5J_LJkJ",
        "outputId": "0422c2fb-2983-4ab2-b7e1-9499e04872b7"
      },
      "execution_count": null,
      "outputs": [
        {
          "output_type": "stream",
          "name": "stdout",
          "text": [
            "Out of the 1000 constructed confidence intervals at 95% confidence level,\n",
            "59 of them do not contain p (0.5)\n"
          ]
        }
      ]
    },
    {
      "cell_type": "markdown",
      "source": [
        "Z Test: Underlying distribution is (asymptotically) normal AND the population variance is known. Then Z test is equivalent to testing whether the mean lies in the confidence interval."
      ],
      "metadata": {
        "id": "_FCpXkWErSLb"
      }
    },
    {
      "cell_type": "code",
      "source": [
        "#Generate synthetic data\n",
        "n = 100\n",
        "p = 0.6\n",
        "X = np.random.binomial(1, p, n)\n",
        "X_avg = X.mean()\n",
        "u = p\n",
        "sigma_square = p*(1-p)\n",
        "\n",
        "test_statistic = n**0.5 * (X_avg - u)/(sigma_square)**0.5\n",
        "test_statistic"
      ],
      "metadata": {
        "colab": {
          "base_uri": "https://localhost:8080/"
        },
        "id": "Oq1XkpNWR5FM",
        "outputId": "f8985fbc-3cd4-43fb-d43d-ae9859b01cce"
      },
      "execution_count": null,
      "outputs": [
        {
          "output_type": "execute_result",
          "data": {
            "text/plain": [
              "-0.2041241452319317"
            ]
          },
          "metadata": {},
          "execution_count": 10
        }
      ]
    },
    {
      "cell_type": "code",
      "source": [
        "alpha = 0.05\n",
        "q_alpha = stats.norm.ppf(1-alpha/2)\n",
        "if test_statistic > q_alpha:\n",
        "  print(\"Reject H_0\")\n",
        "else:\n",
        "  print(\"Failed to reject H_0\")"
      ],
      "metadata": {
        "colab": {
          "base_uri": "https://localhost:8080/"
        },
        "id": "V9Fs3CGh_sgI",
        "outputId": "f6a92ea0-5b80-480c-8330-a91b31bba42e"
      },
      "execution_count": null,
      "outputs": [
        {
          "output_type": "stream",
          "name": "stdout",
          "text": [
            "Failed to reject H_0\n"
          ]
        }
      ]
    },
    {
      "cell_type": "code",
      "source": [
        "#Repeat the test for 100 times\n",
        "#Expect to reject H_0 about 5 times\n",
        "trials = 100\n",
        "alpha = 0.05\n",
        "q_alpha = stats.norm.ppf(1-alpha/2)\n",
        "u = p\n",
        "sigma_square = p*(1-p)\n",
        "results = []\n",
        "\n",
        "for _ in range(trials):\n",
        "  X = np.random.binomial(1, p, n)\n",
        "  X_avg = X.mean()\n",
        "  test_statistic = n**0.5 * (X_avg - u)/(sigma_square)**0.5\n",
        "  results.append(test_statistic > q_alpha)\n",
        "\n",
        "print(f'After {trials} trials, the null hypothesis is rejected {sum(results)} times at 95% confidence.')"
      ],
      "metadata": {
        "id": "sezpbVbHoS5r",
        "colab": {
          "base_uri": "https://localhost:8080/"
        },
        "outputId": "2247c431-db65-4886-9110-7da23c0c7d23"
      },
      "execution_count": 58,
      "outputs": [
        {
          "output_type": "stream",
          "name": "stdout",
          "text": [
            "After 100 trials, the null hypothesis is rejected 3 times at 95% confidence.\n"
          ]
        }
      ]
    },
    {
      "cell_type": "markdown",
      "source": [
        "T Test: when we have unknown population variance. Assumption: X_i ~ N(u, sigma^2)"
      ],
      "metadata": {
        "id": "8ydKoOXl2HDL"
      }
    },
    {
      "cell_type": "code",
      "source": [
        "#Generate synthetic data\n",
        "n = 100\n",
        "loc = 5\n",
        "scale = 3\n",
        "X = np.random.normal(loc, scale, n)\n",
        "X_avg = X.mean()\n",
        "u = loc\n",
        "S_n = X.var()\n",
        "\n",
        "test_statistic = (n - 1)**0.5 * (X_avg - u)/(S_n)**0.5\n",
        "test_statistic"
      ],
      "metadata": {
        "id": "wIo24q1Y2L9U",
        "colab": {
          "base_uri": "https://localhost:8080/"
        },
        "outputId": "aa162853-f744-4ce7-9aee-41fc63a7b5f7"
      },
      "execution_count": 96,
      "outputs": [
        {
          "output_type": "execute_result",
          "data": {
            "text/plain": [
              "0.3520030873228303"
            ]
          },
          "metadata": {},
          "execution_count": 96
        }
      ]
    },
    {
      "cell_type": "code",
      "source": [
        "test_statistic = n**0.5 * (X_avg - u)/(scale)\n",
        "test_statistic"
      ],
      "metadata": {
        "colab": {
          "base_uri": "https://localhost:8080/"
        },
        "id": "yVbRc4WHqBLu",
        "outputId": "a779882a-067c-4ba4-9f2e-e18e39738c83"
      },
      "execution_count": 97,
      "outputs": [
        {
          "output_type": "execute_result",
          "data": {
            "text/plain": [
              "0.3096469469034169"
            ]
          },
          "metadata": {},
          "execution_count": 97
        }
      ]
    },
    {
      "cell_type": "code",
      "source": [
        "alpha = 0.05\n",
        "q_alpha = stats.t.ppf(1-alpha/2, df = n - 1)\n",
        "if test_statistic > q_alpha:\n",
        "  print(\"Reject H_0\")\n",
        "else:\n",
        "  print(\"Failed to reject H_0\")"
      ],
      "metadata": {
        "colab": {
          "base_uri": "https://localhost:8080/"
        },
        "id": "Xd6OGb3smckc",
        "outputId": "2a8bf000-1048-4664-e9d3-1fe6d43603f6"
      },
      "execution_count": 70,
      "outputs": [
        {
          "output_type": "stream",
          "name": "stdout",
          "text": [
            "Failed to reject H_0\n"
          ]
        }
      ]
    },
    {
      "cell_type": "code",
      "source": [
        "#Repeat the test for 100 times\n",
        "#Expect to reject H_0 about 5 times\n",
        "trials = 100\n",
        "alpha = 0.05\n",
        "n = 100\n",
        "q_alpha = stats.t.ppf(1-alpha/2, df = n - 1)\n",
        "loc = 5\n",
        "scale = 3\n",
        "S_n = X.var()\n",
        "results = []\n",
        "\n",
        "for _ in range(trials):\n",
        "  X = np.random.normal(loc, scale, n)\n",
        "  X_avg = X.mean()\n",
        "  test_statistic = (n - 1)**0.5 * (X_avg - u)/(S_n)**0.5\n",
        "  results.append(test_statistic > q_alpha)\n",
        "\n",
        "print(f'After {trials} trials, the null hypothesis is rejected {sum(results)} times at 95% confidence.')"
      ],
      "metadata": {
        "colab": {
          "base_uri": "https://localhost:8080/"
        },
        "id": "qEJl20jLnPFL",
        "outputId": "170e7ba2-5a6b-41da-bbaa-3ed4c111f3fb"
      },
      "execution_count": 92,
      "outputs": [
        {
          "output_type": "stream",
          "name": "stdout",
          "text": [
            "After 100 trials, the null hypothesis is rejected 6 times at 95% confidence.\n"
          ]
        }
      ]
    }
  ]
}