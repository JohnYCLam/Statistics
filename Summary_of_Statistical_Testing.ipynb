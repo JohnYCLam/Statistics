{
  "nbformat": 4,
  "nbformat_minor": 0,
  "metadata": {
    "colab": {
      "provenance": [],
      "authorship_tag": "ABX9TyN9VEs+E8kcpKUHudrUBaxA",
      "include_colab_link": true
    },
    "kernelspec": {
      "name": "python3",
      "display_name": "Python 3"
    },
    "language_info": {
      "name": "python"
    }
  },
  "cells": [
    {
      "cell_type": "markdown",
      "metadata": {
        "id": "view-in-github",
        "colab_type": "text"
      },
      "source": [
        "<a href=\"https://colab.research.google.com/github/JohnYCLam/Statistics/blob/main/Summary_of_Statistical_Testing.ipynb\" target=\"_parent\"><img src=\"https://colab.research.google.com/assets/colab-badge.svg\" alt=\"Open In Colab\"/></a>"
      ]
    },
    {
      "cell_type": "markdown",
      "source": [
        "Z Test, T Test, $\\chi^2$ Test\n",
        "\n",
        "Wald's Test, Likelihood Ratio Test, Testing implicit hypothesis\n",
        "\n",
        "Jarque Bera Test, D'Agostino and Pearson Test\n",
        "\n",
        "Kolmogorov-Smirnov test, Kolmogorov-Lilliefors test\n",
        "\n",
        "Quantile-Quantile (QQ) plots\n",
        "\n",
        "$\\chi^2$ goodness-of-fit test"
      ],
      "metadata": {
        "id": "ZiXorV-nl64N"
      }
    },
    {
      "cell_type": "markdown",
      "source": [
        "Confidence Interval Demonstration\n"
      ],
      "metadata": {
        "id": "ZRzCF94oMoGt"
      }
    },
    {
      "cell_type": "code",
      "source": [
        "import numpy as np\n",
        "import scipy.stats as stats"
      ],
      "metadata": {
        "id": "7-nTFGws0Eun"
      },
      "execution_count": null,
      "outputs": []
    },
    {
      "cell_type": "code",
      "source": [
        "#Construct a confidence interval of level 95% for the mean p of Bernoulli(p)\n",
        "alpha = 0.05\n",
        "q_alpha2 = stats.norm.ppf(1-alpha/2)\n",
        "\n",
        "#Generate synthetic data\n",
        "n = 1000\n",
        "X = np.random.binomial(1, 0.5, n)\n",
        "X_avg = X.mean()\n",
        "\n",
        "#Confidence interval Methnod 1: replace p(1-p) by 1/4\n",
        "I = [X_avg - q_alpha2/(2*n**0.5), X_avg + q_alpha2/(2*n**0.5)]\n",
        "print(I)\n",
        "\n",
        "#Confidence interval Method 2: replace p by X_avg\n",
        "I = [X_avg - q_alpha2 * (X_avg*(1 - X_avg)/n)**0.5, X_avg + q_alpha2 * (X_avg*(1 - X_avg)/n)**0.5]\n",
        "print(I)\n",
        "\n",
        "#Confidence interval Method 3: Calculate the exact range of p\n",
        "a = n + q_alpha2**2\n",
        "b = - (2*n*X_avg + q_alpha2**2)\n",
        "c = n*X_avg**2\n",
        "I = [(-b - (b**2 - 4*a*c)**0.5)/(2*a), (-b + (b**2 - 4*a*c)**0.5)/(2*a)]\n",
        "print(I)"
      ],
      "metadata": {
        "colab": {
          "base_uri": "https://localhost:8080/"
        },
        "id": "8HFOmIvt0HnJ",
        "outputId": "b7fbb8eb-3441-4a51-fd2a-4cf4691b8fe1"
      },
      "execution_count": null,
      "outputs": [
        {
          "output_type": "stream",
          "name": "stdout",
          "text": [
            "[0.4670102483847719, 0.5289897516152281]\n",
            "[0.4670104963037765, 0.5289895036962234]\n",
            "[0.4670775003823489, 0.5289378066515933]\n"
          ]
        }
      ]
    },
    {
      "cell_type": "code",
      "source": [
        "#Meaning of Confidence interval\n",
        "I = []\n",
        "trials = 1000\n",
        "n = 100\n",
        "p = 0.5\n",
        "count = 0\n",
        "\n",
        "for _ in range(trials):\n",
        "  X = np.random.binomial(1, p, n)\n",
        "  X_avg = X.mean()\n",
        "  lower = X_avg - q_alpha2/(2*n**0.5)\n",
        "  upper = X_avg + q_alpha2/(2*n**0.5)\n",
        "  I.append([lower, upper])\n",
        "  if lower > p or upper < p:\n",
        "    count += 1\n",
        "print(f'Out of the {trials} constructed confidence intervals at 95% confidence level,\\n{count} of them do not contain p ({p})')"
      ],
      "metadata": {
        "colab": {
          "base_uri": "https://localhost:8080/"
        },
        "id": "S4N1X5J_LJkJ",
        "outputId": "0422c2fb-2983-4ab2-b7e1-9499e04872b7"
      },
      "execution_count": null,
      "outputs": [
        {
          "output_type": "stream",
          "name": "stdout",
          "text": [
            "Out of the 1000 constructed confidence intervals at 95% confidence level,\n",
            "59 of them do not contain p (0.5)\n"
          ]
        }
      ]
    },
    {
      "cell_type": "markdown",
      "source": [
        "Z Test: Underlying distribution is (asymptotically) normal AND the population variance is known. Then Z test is equivalent to testing whether the mean lies in the confidence interval."
      ],
      "metadata": {
        "id": "_FCpXkWErSLb"
      }
    },
    {
      "cell_type": "code",
      "source": [
        "#Generate synthetic data\n",
        "n = 100\n",
        "p = 0.6\n",
        "X = np.random.binomial(1, p, n)\n",
        "X_avg = X.mean()\n",
        "u = p\n",
        "sigma_square = p*(1-p)\n",
        "\n",
        "test_statistic = n**0.5 * (X_avg - u)/(sigma_square)**0.5\n",
        "test_statistic"
      ],
      "metadata": {
        "colab": {
          "base_uri": "https://localhost:8080/"
        },
        "id": "Oq1XkpNWR5FM",
        "outputId": "f8985fbc-3cd4-43fb-d43d-ae9859b01cce"
      },
      "execution_count": null,
      "outputs": [
        {
          "output_type": "execute_result",
          "data": {
            "text/plain": [
              "-0.2041241452319317"
            ]
          },
          "metadata": {},
          "execution_count": 10
        }
      ]
    },
    {
      "cell_type": "code",
      "source": [
        "import scipy.stats as stats\n",
        "\n",
        "alpha = 0.05\n",
        "q_alpha = stats.norm.ppf(1-alpha/2)\n",
        "if test_statistic > q_alpha:\n",
        "  print(\"Reject H_0\")\n",
        "else:\n",
        "  print(\"Failed to reject H_0\")"
      ],
      "metadata": {
        "colab": {
          "base_uri": "https://localhost:8080/"
        },
        "id": "V9Fs3CGh_sgI",
        "outputId": "f6a92ea0-5b80-480c-8330-a91b31bba42e"
      },
      "execution_count": null,
      "outputs": [
        {
          "output_type": "stream",
          "name": "stdout",
          "text": [
            "Failed to reject H_0\n"
          ]
        }
      ]
    },
    {
      "cell_type": "code",
      "source": [
        "#Repeat the test for 100 times\n",
        "#Expect to reject H_0 about 5 times\n",
        "trials = 100\n",
        "alpha = 0.05\n",
        "q_alpha = stats.norm.ppf(1-alpha/2)\n",
        "u = p\n",
        "sigma_square = p*(1-p)\n",
        "results = []\n",
        "\n",
        "for _ in range(trials):\n",
        "  X = np.random.binomial(1, p, n)\n",
        "  X_avg = X.mean()\n",
        "  test_statistic = n**0.5 * (X_avg - u)/(sigma_square)**0.5\n",
        "  results.append(test_statistic > q_alpha)\n",
        "\n",
        "print(f'After {trials} trials, the null hypothesis is rejected {sum(results)} times at 95% confidence.')"
      ],
      "metadata": {
        "id": "sezpbVbHoS5r",
        "colab": {
          "base_uri": "https://localhost:8080/"
        },
        "outputId": "2e4ec82b-17c8-4a56-e7e1-e4e6682c2882"
      },
      "execution_count": null,
      "outputs": [
        {
          "output_type": "stream",
          "name": "stdout",
          "text": [
            "After 100 trials, the null hypothesis is rejected 5 times at 95% confidence.\n"
          ]
        }
      ]
    },
    {
      "cell_type": "markdown",
      "source": [
        "T Test: when we have unknown population variance"
      ],
      "metadata": {
        "id": "8ydKoOXl2HDL"
      }
    },
    {
      "cell_type": "code",
      "source": [],
      "metadata": {
        "id": "wIo24q1Y2L9U"
      },
      "execution_count": null,
      "outputs": []
    }
  ]
}