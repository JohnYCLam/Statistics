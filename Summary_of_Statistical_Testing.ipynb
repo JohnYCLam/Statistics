{
  "nbformat": 4,
  "nbformat_minor": 0,
  "metadata": {
    "colab": {
      "provenance": [],
      "authorship_tag": "ABX9TyM1IvfZ34vH95iLdGt+UpPy",
      "include_colab_link": true
    },
    "kernelspec": {
      "name": "python3",
      "display_name": "Python 3"
    },
    "language_info": {
      "name": "python"
    }
  },
  "cells": [
    {
      "cell_type": "markdown",
      "metadata": {
        "id": "view-in-github",
        "colab_type": "text"
      },
      "source": [
        "<a href=\"https://colab.research.google.com/github/JohnYCLam/Statistics/blob/main/Summary_of_Statistical_Testing.ipynb\" target=\"_parent\"><img src=\"https://colab.research.google.com/assets/colab-badge.svg\" alt=\"Open In Colab\"/></a>"
      ]
    },
    {
      "cell_type": "markdown",
      "source": [
        "Z Test, T Test, $\\chi^2$ Test\n",
        "\n",
        "Wald's Test, Likelihood Ratio Test, Testing implicit hypothesis\n",
        "\n",
        "Jarque Bera Test, D'Agostino and Pearson Test\n",
        "\n",
        "Kolmogorov-Smirnov test, Kolmogorov-Lilliefors test\n",
        "\n",
        "Quantile-Quantile (QQ) plots\n",
        "\n",
        "$\\chi^2$ goodness-of-fit test"
      ],
      "metadata": {
        "id": "ZiXorV-nl64N"
      }
    },
    {
      "cell_type": "markdown",
      "source": [
        "Confidence Interval Demonstration\n"
      ],
      "metadata": {
        "id": "ZRzCF94oMoGt"
      }
    },
    {
      "cell_type": "code",
      "source": [
        "import numpy as np\n",
        "import scipy.stats as stats"
      ],
      "metadata": {
        "id": "7-nTFGws0Eun"
      },
      "execution_count": null,
      "outputs": []
    },
    {
      "cell_type": "code",
      "source": [
        "#Construct a confidence interval of level 95% for the mean p of Bernoulli(p)\n",
        "alpha = 0.05\n",
        "q_alpha2 = stats.norm.ppf(1-alpha/2)\n",
        "\n",
        "#Generate synthetic data\n",
        "n = 100\n",
        "X = np.random.binomial(1, 0.5, n)\n",
        "X_avg = X.mean()\n",
        "\n",
        "#Confidence interval 1: replace p(1-p) by 1/4\n",
        "I = [X_avg - q_alpha2/(2*n**0.5), X_avg + q_alpha2/(2*n**0.5)]\n",
        "print(I)\n",
        "\n",
        "#Confidence interval 2: replace p by X_avg\n",
        "I = [X_avg - q_alpha2 * (X_avg*(1 - X_avg)/n)**0.5, X_avg + q_alpha2 * (X_avg*(1 - X_avg)/n)**0.5]\n",
        "print(I)\n",
        "\n",
        "#Confidence interval 3: Calculate exact range of p\n",
        "a = n + q_alpha2**2\n",
        "b = - (2*n*X_avg + q_alpha2**2)\n",
        "c = n*X_avg**2\n",
        "I = [(-b - (b**2 - 4*a*c)**0.5)/(2*a), (-b + (b**2 - 4*a*c)**0.5)/(2*a)]\n",
        "print(I)"
      ],
      "metadata": {
        "colab": {
          "base_uri": "https://localhost:8080/"
        },
        "id": "8HFOmIvt0HnJ",
        "outputId": "3f602dbb-4efb-4e2a-bc4e-ccdbb2903c96"
      },
      "execution_count": null,
      "outputs": [
        {
          "output_type": "stream",
          "name": "stdout",
          "text": [
            "[0.4220018007729973, 0.6179981992270027]\n",
            "[0.4220802307169153, 0.6179197692830847]\n",
            "[0.42316577765223967, 0.6153544824194809]\n"
          ]
        }
      ]
    },
    {
      "cell_type": "code",
      "source": [
        "#Meaning of Confidence interval\n",
        "I = []\n",
        "trials = 1000\n",
        "n = 100\n",
        "p = 0.5\n",
        "count = 0\n",
        "\n",
        "for _ in range(trials):\n",
        "  X = np.random.binomial(1, p, n)\n",
        "  X_avg = X.mean()\n",
        "  lower = X_avg - q_alpha2/(2*n**0.5)\n",
        "  upper = X_avg + q_alpha2/(2*n**0.5)\n",
        "  I.append([lower, upper])\n",
        "  if lower > p or upper < p:\n",
        "    count += 1\n",
        "print(f'Out of the {trials} constructed confidence intervals at 95% confidence level,\\n{count} of them do not contain p ({p})')"
      ],
      "metadata": {
        "colab": {
          "base_uri": "https://localhost:8080/"
        },
        "id": "S4N1X5J_LJkJ",
        "outputId": "b48c1166-d99c-4159-e81c-202f23465ed6"
      },
      "execution_count": null,
      "outputs": [
        {
          "output_type": "stream",
          "name": "stdout",
          "text": [
            "Out of the 1000 constructed confidence intervals at 95% confidence level,\n",
            "55 of them do not contain p (0.5)\n"
          ]
        }
      ]
    },
    {
      "cell_type": "markdown",
      "source": [
        "Z Test: Underlying distribution is (asymptotically) normal AND the population variance is known. Then Z test is equivalent to testing whether the mean lies in the confidence interval."
      ],
      "metadata": {
        "id": "_FCpXkWErSLb"
      }
    },
    {
      "cell_type": "code",
      "source": [
        "#Generate synthetic data\n",
        "trials = 1000\n",
        "n = 100\n",
        "p = 0.6\n",
        "X = np.random.binomial(n, p, trials)\n",
        "X_avg = X.mean()\n",
        "\n",
        "z_score = (X_avg - n*p)/(p*(1-p))**0.5\n",
        "z_score"
      ],
      "metadata": {
        "colab": {
          "base_uri": "https://localhost:8080/"
        },
        "id": "Oq1XkpNWR5FM",
        "outputId": "90de5187-5d07-4336-c778-d283585bc462"
      },
      "execution_count": null,
      "outputs": [
        {
          "output_type": "execute_result",
          "data": {
            "text/plain": [
              "0.02857738033247633"
            ]
          },
          "metadata": {},
          "execution_count": 73
        }
      ]
    },
    {
      "cell_type": "code",
      "source": [
        "import scipy.stats as stats\n",
        "\n",
        "alpha = 0.05\n",
        "z_critical = stats.norm.ppf(1-alpha/2)\n",
        "if z_score > z_critical:\n",
        "  print(\"Reject H_0\")\n",
        "else:\n",
        "  print(\"Failed to reject H_0\")"
      ],
      "metadata": {
        "colab": {
          "base_uri": "https://localhost:8080/"
        },
        "id": "V9Fs3CGh_sgI",
        "outputId": "ed39b97b-cd4a-455d-dba4-8898bab0159a"
      },
      "execution_count": null,
      "outputs": [
        {
          "output_type": "stream",
          "name": "stdout",
          "text": [
            "Failed to reject H_0\n"
          ]
        }
      ]
    },
    {
      "cell_type": "code",
      "source": [],
      "metadata": {
        "id": "sezpbVbHoS5r"
      },
      "execution_count": null,
      "outputs": []
    }
  ]
}